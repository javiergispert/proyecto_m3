{
 "cells": [
  {
   "cell_type": "code",
   "execution_count": 1,
   "id": "cb00c48c",
   "metadata": {},
   "outputs": [],
   "source": [
    "import numpy as np\n",
    "import pandas as pd\n",
    "\n",
    "from scipy.stats import trim_mean   # conda install scipy\n",
    "from statsmodels import robust      # conda install -c conda-forge statsmodels \n",
    "import wquantiles                   # pip install wquantiles\n",
    "\n",
    "import matplotlib.pylab as plt\n",
    "import seaborn as sns\n",
    "\n",
    "from sklearn.impute import SimpleImputer\n",
    "\n",
    "from sklearn.preprocessing import StandardScaler\n",
    "from sklearn.preprocessing import MinMaxScaler\n",
    "from sklearn.preprocessing import RobustScaler\n",
    "from sklearn.model_selection import train_test_split\n",
    "\n",
    "from collections import Counter\n",
    "from sklearn.datasets import make_classification\n",
    "from imblearn.over_sampling import SMOTE\n",
    "\n",
    "from sklearn import linear_model\n",
    "from sklearn.linear_model import ElasticNet\n",
    "from sklearn.linear_model import Ridge\n",
    "from sklearn.svm import SVR\n",
    "from sklearn.linear_model import SGDRegressor\n",
    "from sklearn.linear_model import LinearRegression\n",
    "from sklearn.ensemble import RandomForestRegressor\n",
    "\n",
    "from sklearn.metrics import mean_squared_error\n",
    "from sklearn.metrics import r2_score"
   ]
  },
  {
   "cell_type": "code",
   "execution_count": 2,
   "id": "7af9eb24",
   "metadata": {},
   "outputs": [],
   "source": [
    "df_city = pd.read_csv('../../data/diamonds_city_202208201409.csv')\n",
    "df_clarity = pd.read_csv('../../data/diamonds_clarity_202208201409.csv')\n",
    "df_color = pd.read_csv('../../data/diamonds_color_202208201409.csv')\n",
    "df_cut = pd.read_csv('../../data/diamonds_cut_202208201409.csv')\n",
    "df_dimensions = pd.read_csv('../../data/diamonds_dimensions_202208201409.csv')\n",
    "df_properties = pd.read_csv('../../data/diamonds_properties_202208201409.csv')\n",
    "df_transactional = pd.read_csv('../../data/diamonds_transactional_202208201409.csv')"
   ]
  },
  {
   "cell_type": "code",
   "execution_count": 3,
   "id": "26c8308b",
   "metadata": {},
   "outputs": [],
   "source": [
    "df_diamonds = df_properties.merge(\n",
    "    df_clarity, on=\"clarity_id\", how=\"left\").merge(\n",
    "    df_color, on=\"color_id\", how=\"left\").merge(\n",
    "    df_cut, on=\"cut_id\", how=\"left\").merge(\n",
    "    df_dimensions, on=\"index_id\", how=\"left\").merge(\n",
    "    df_transactional, on=\"index_id\", how=\"left\").merge(df_city, on=\"city_id\", how=\"left\")"
   ]
  },
  {
   "cell_type": "code",
   "execution_count": 4,
   "id": "9a2c3859",
   "metadata": {},
   "outputs": [],
   "source": [
    "#reordenamos el orden de las columnas\n",
    "df_diamonds = df_diamonds[['carat','depth','table','x', 'y', 'z','price', 'city', 'cut', 'color','clarity']]"
   ]
  },
  {
   "cell_type": "code",
   "execution_count": 5,
   "id": "470d3d5e",
   "metadata": {},
   "outputs": [
    {
     "name": "stdout",
     "output_type": "stream",
     "text": [
      "<class 'pandas.core.frame.DataFrame'>\n",
      "Int64Index: 40455 entries, 0 to 40454\n",
      "Data columns (total 11 columns):\n",
      " #   Column   Non-Null Count  Dtype  \n",
      "---  ------   --------------  -----  \n",
      " 0   carat    40455 non-null  float64\n",
      " 1   depth    40455 non-null  float64\n",
      " 2   table    40455 non-null  float64\n",
      " 3   x        40455 non-null  float64\n",
      " 4   y        40455 non-null  float64\n",
      " 5   z        40455 non-null  float64\n",
      " 6   price    40455 non-null  int64  \n",
      " 7   city     40455 non-null  object \n",
      " 8   cut      40455 non-null  object \n",
      " 9   color    40455 non-null  object \n",
      " 10  clarity  40455 non-null  object \n",
      "dtypes: float64(6), int64(1), object(4)\n",
      "memory usage: 3.7+ MB\n"
     ]
    },
    {
     "data": {
      "text/html": [
       "<div>\n",
       "<style scoped>\n",
       "    .dataframe tbody tr th:only-of-type {\n",
       "        vertical-align: middle;\n",
       "    }\n",
       "\n",
       "    .dataframe tbody tr th {\n",
       "        vertical-align: top;\n",
       "    }\n",
       "\n",
       "    .dataframe thead th {\n",
       "        text-align: right;\n",
       "    }\n",
       "</style>\n",
       "<table border=\"1\" class=\"dataframe\">\n",
       "  <thead>\n",
       "    <tr style=\"text-align: right;\">\n",
       "      <th></th>\n",
       "      <th>carat</th>\n",
       "      <th>depth</th>\n",
       "      <th>table</th>\n",
       "      <th>x</th>\n",
       "      <th>y</th>\n",
       "      <th>z</th>\n",
       "      <th>price</th>\n",
       "      <th>city</th>\n",
       "      <th>cut</th>\n",
       "      <th>color</th>\n",
       "      <th>clarity</th>\n",
       "    </tr>\n",
       "  </thead>\n",
       "  <tbody>\n",
       "    <tr>\n",
       "      <th>0</th>\n",
       "      <td>1.21</td>\n",
       "      <td>62.4</td>\n",
       "      <td>58.0</td>\n",
       "      <td>6.83</td>\n",
       "      <td>6.79</td>\n",
       "      <td>4.25</td>\n",
       "      <td>4268</td>\n",
       "      <td>Kimberly</td>\n",
       "      <td>Premium</td>\n",
       "      <td>J</td>\n",
       "      <td>VS2</td>\n",
       "    </tr>\n",
       "    <tr>\n",
       "      <th>1</th>\n",
       "      <td>0.32</td>\n",
       "      <td>63.0</td>\n",
       "      <td>57.0</td>\n",
       "      <td>4.35</td>\n",
       "      <td>4.38</td>\n",
       "      <td>2.75</td>\n",
       "      <td>505</td>\n",
       "      <td>Antwerp</td>\n",
       "      <td>Very Good</td>\n",
       "      <td>H</td>\n",
       "      <td>VS2</td>\n",
       "    </tr>\n",
       "    <tr>\n",
       "      <th>2</th>\n",
       "      <td>0.71</td>\n",
       "      <td>65.5</td>\n",
       "      <td>55.0</td>\n",
       "      <td>5.62</td>\n",
       "      <td>5.53</td>\n",
       "      <td>3.65</td>\n",
       "      <td>2686</td>\n",
       "      <td>London</td>\n",
       "      <td>Fair</td>\n",
       "      <td>G</td>\n",
       "      <td>VS1</td>\n",
       "    </tr>\n",
       "    <tr>\n",
       "      <th>3</th>\n",
       "      <td>0.41</td>\n",
       "      <td>63.8</td>\n",
       "      <td>56.0</td>\n",
       "      <td>4.68</td>\n",
       "      <td>4.72</td>\n",
       "      <td>3.00</td>\n",
       "      <td>738</td>\n",
       "      <td>New York City</td>\n",
       "      <td>Good</td>\n",
       "      <td>D</td>\n",
       "      <td>SI1</td>\n",
       "    </tr>\n",
       "    <tr>\n",
       "      <th>4</th>\n",
       "      <td>1.02</td>\n",
       "      <td>60.5</td>\n",
       "      <td>59.0</td>\n",
       "      <td>6.55</td>\n",
       "      <td>6.51</td>\n",
       "      <td>3.95</td>\n",
       "      <td>4882</td>\n",
       "      <td>Dubai</td>\n",
       "      <td>Ideal</td>\n",
       "      <td>G</td>\n",
       "      <td>SI1</td>\n",
       "    </tr>\n",
       "  </tbody>\n",
       "</table>\n",
       "</div>"
      ],
      "text/plain": [
       "   carat  depth  table     x     y     z  price           city        cut  \\\n",
       "0   1.21   62.4   58.0  6.83  6.79  4.25   4268       Kimberly    Premium   \n",
       "1   0.32   63.0   57.0  4.35  4.38  2.75    505        Antwerp  Very Good   \n",
       "2   0.71   65.5   55.0  5.62  5.53  3.65   2686         London       Fair   \n",
       "3   0.41   63.8   56.0  4.68  4.72  3.00    738  New York City       Good   \n",
       "4   1.02   60.5   59.0  6.55  6.51  3.95   4882          Dubai      Ideal   \n",
       "\n",
       "  color clarity  \n",
       "0     J     VS2  \n",
       "1     H     VS2  \n",
       "2     G     VS1  \n",
       "3     D     SI1  \n",
       "4     G     SI1  "
      ]
     },
     "execution_count": 5,
     "metadata": {},
     "output_type": "execute_result"
    }
   ],
   "source": [
    "df_diamonds.info() #compuesto por las 40.455 filas y 16 columnas sin nulos.\n",
    "df_diamonds.head()"
   ]
  },
  {
   "cell_type": "code",
   "execution_count": 6,
   "id": "638954ce",
   "metadata": {},
   "outputs": [
    {
     "data": {
      "text/html": [
       "<div>\n",
       "<style scoped>\n",
       "    .dataframe tbody tr th:only-of-type {\n",
       "        vertical-align: middle;\n",
       "    }\n",
       "\n",
       "    .dataframe tbody tr th {\n",
       "        vertical-align: top;\n",
       "    }\n",
       "\n",
       "    .dataframe thead th {\n",
       "        text-align: right;\n",
       "    }\n",
       "</style>\n",
       "<table border=\"1\" class=\"dataframe\">\n",
       "  <thead>\n",
       "    <tr style=\"text-align: right;\">\n",
       "      <th></th>\n",
       "      <th>carat</th>\n",
       "      <th>depth</th>\n",
       "      <th>table</th>\n",
       "      <th>x</th>\n",
       "      <th>y</th>\n",
       "      <th>z</th>\n",
       "      <th>price</th>\n",
       "    </tr>\n",
       "  </thead>\n",
       "  <tbody>\n",
       "    <tr>\n",
       "      <th>count</th>\n",
       "      <td>40455.000000</td>\n",
       "      <td>40455.000000</td>\n",
       "      <td>40455.000000</td>\n",
       "      <td>40455.000000</td>\n",
       "      <td>40455.000000</td>\n",
       "      <td>40455.000000</td>\n",
       "      <td>40455.000000</td>\n",
       "    </tr>\n",
       "    <tr>\n",
       "      <th>mean</th>\n",
       "      <td>0.797706</td>\n",
       "      <td>61.752841</td>\n",
       "      <td>57.446133</td>\n",
       "      <td>5.729392</td>\n",
       "      <td>5.732819</td>\n",
       "      <td>3.537154</td>\n",
       "      <td>3928.444469</td>\n",
       "    </tr>\n",
       "    <tr>\n",
       "      <th>std</th>\n",
       "      <td>0.475544</td>\n",
       "      <td>1.431725</td>\n",
       "      <td>2.233535</td>\n",
       "      <td>1.124453</td>\n",
       "      <td>1.146650</td>\n",
       "      <td>0.697062</td>\n",
       "      <td>3992.416147</td>\n",
       "    </tr>\n",
       "    <tr>\n",
       "      <th>min</th>\n",
       "      <td>0.200000</td>\n",
       "      <td>43.000000</td>\n",
       "      <td>43.000000</td>\n",
       "      <td>0.000000</td>\n",
       "      <td>0.000000</td>\n",
       "      <td>0.000000</td>\n",
       "      <td>326.000000</td>\n",
       "    </tr>\n",
       "    <tr>\n",
       "      <th>25%</th>\n",
       "      <td>0.400000</td>\n",
       "      <td>61.000000</td>\n",
       "      <td>56.000000</td>\n",
       "      <td>4.710000</td>\n",
       "      <td>4.720000</td>\n",
       "      <td>2.910000</td>\n",
       "      <td>945.000000</td>\n",
       "    </tr>\n",
       "    <tr>\n",
       "      <th>50%</th>\n",
       "      <td>0.700000</td>\n",
       "      <td>61.800000</td>\n",
       "      <td>57.000000</td>\n",
       "      <td>5.690000</td>\n",
       "      <td>5.710000</td>\n",
       "      <td>3.520000</td>\n",
       "      <td>2397.000000</td>\n",
       "    </tr>\n",
       "    <tr>\n",
       "      <th>75%</th>\n",
       "      <td>1.040000</td>\n",
       "      <td>62.500000</td>\n",
       "      <td>59.000000</td>\n",
       "      <td>6.540000</td>\n",
       "      <td>6.540000</td>\n",
       "      <td>4.035000</td>\n",
       "      <td>5331.000000</td>\n",
       "    </tr>\n",
       "    <tr>\n",
       "      <th>max</th>\n",
       "      <td>4.500000</td>\n",
       "      <td>79.000000</td>\n",
       "      <td>95.000000</td>\n",
       "      <td>10.230000</td>\n",
       "      <td>58.900000</td>\n",
       "      <td>8.060000</td>\n",
       "      <td>18823.000000</td>\n",
       "    </tr>\n",
       "  </tbody>\n",
       "</table>\n",
       "</div>"
      ],
      "text/plain": [
       "              carat         depth         table             x             y  \\\n",
       "count  40455.000000  40455.000000  40455.000000  40455.000000  40455.000000   \n",
       "mean       0.797706     61.752841     57.446133      5.729392      5.732819   \n",
       "std        0.475544      1.431725      2.233535      1.124453      1.146650   \n",
       "min        0.200000     43.000000     43.000000      0.000000      0.000000   \n",
       "25%        0.400000     61.000000     56.000000      4.710000      4.720000   \n",
       "50%        0.700000     61.800000     57.000000      5.690000      5.710000   \n",
       "75%        1.040000     62.500000     59.000000      6.540000      6.540000   \n",
       "max        4.500000     79.000000     95.000000     10.230000     58.900000   \n",
       "\n",
       "                  z         price  \n",
       "count  40455.000000  40455.000000  \n",
       "mean       3.537154   3928.444469  \n",
       "std        0.697062   3992.416147  \n",
       "min        0.000000    326.000000  \n",
       "25%        2.910000    945.000000  \n",
       "50%        3.520000   2397.000000  \n",
       "75%        4.035000   5331.000000  \n",
       "max        8.060000  18823.000000  "
      ]
     },
     "execution_count": 6,
     "metadata": {},
     "output_type": "execute_result"
    }
   ],
   "source": [
    "df_diamonds.describe()"
   ]
  },
  {
   "cell_type": "code",
   "execution_count": 7,
   "id": "d76a455d",
   "metadata": {},
   "outputs": [
    {
     "data": {
      "text/plain": [
       "carat      0\n",
       "depth      0\n",
       "table      0\n",
       "x          0\n",
       "y          0\n",
       "z          0\n",
       "price      0\n",
       "city       0\n",
       "cut        0\n",
       "color      0\n",
       "clarity    0\n",
       "dtype: int64"
      ]
     },
     "execution_count": 7,
     "metadata": {},
     "output_type": "execute_result"
    }
   ],
   "source": [
    "df_diamonds.isna().sum()"
   ]
  },
  {
   "cell_type": "markdown",
   "id": "32d990dc",
   "metadata": {},
   "source": [
    "# EDA"
   ]
  },
  {
   "cell_type": "code",
   "execution_count": 8,
   "id": "c1580af9",
   "metadata": {},
   "outputs": [
    {
     "name": "stdout",
     "output_type": "stream",
     "text": [
      "carat trimmed_mean: 0.734\n",
      "depth trimmed_mean: 61.786\n",
      "table trimmed_mean: 57.307\n",
      "x trimmed_mean: 5.657\n",
      "y trimmed_mean: 5.66\n",
      "z trimmed_mean: 3.493\n",
      "price trimmed_mean: 3153.223\n"
     ]
    }
   ],
   "source": [
    "for column in df_diamonds.columns[:7]:\n",
    "    tmean_column = trim_mean(df_diamonds[column], 0.1)\n",
    "    print(f'{column} trimmed_mean:', round(tmean_column, 3))\n",
    "\n",
    "#la media depth parece ser robusta al estar muy próxima a su media normal\n",
    "#la media table parece ser robusta al estar muy próxima\n",
    "#con Price aquí sí que parece haber una gran diferencia respecto a su media\n",
    "#Diferencia a tener en cuenta en Carat respecto a su media"
   ]
  },
  {
   "cell_type": "code",
   "execution_count": 9,
   "id": "eafa82f1",
   "metadata": {},
   "outputs": [
    {
     "name": "stdout",
     "output_type": "stream",
     "text": [
      "carat median vs mean vs tri_mean: 0.7 // 0.8 // 0.73\n",
      "depth median vs mean vs tri_mean: 61.8 // 61.75 // 61.79\n",
      "table median vs mean vs tri_mean: 57.0 // 57.45 // 57.31\n",
      "x median vs mean vs tri_mean: 5.69 // 5.73 // 5.66\n",
      "y median vs mean vs tri_mean: 5.71 // 5.73 // 5.66\n",
      "z median vs mean vs tri_mean: 3.52 // 3.54 // 3.49\n",
      "price median vs mean vs tri_mean: 2397.0 // 3928.44 // 3153.22\n"
     ]
    }
   ],
   "source": [
    "for column in df_diamonds.columns[:7]:\n",
    "    median_column = df_diamonds[column].median()\n",
    "    mean_column = df_diamonds[column].mean()\n",
    "    tmean_column = trim_mean(df_diamonds[column], 0.1)\n",
    "    print(f'{column} median vs mean vs tri_mean:', round(median_column, 2), '//', round(mean_column, 2),\n",
    "          '//', round(tmean_column, 2))\n",
    "    \n",
    "#Depth: media y mediana se encuentran muy próximas. Son buena medida central\n",
    "#Table: media y mediana se encuentran muy próximas. Son buena medida central\n",
    "#Price: media y mediana están lejos. Incluso trimmed media de median\n",
    "#Carat: media y mediana están lejos\n",
    "\n",
    "# Conclusiones:\n",
    "# - los gustos de la gente son muy similares o los diseños de los diamantes no dan a lugar a mucha imaginación\n",
    "# - buscando la forma simétrica de un cuadrado por ser X e Y muy parecidos. Figura de cuadrado."
   ]
  },
  {
   "cell_type": "code",
   "execution_count": 10,
   "id": "6eea95b3",
   "metadata": {},
   "outputs": [
    {
     "name": "stdout",
     "output_type": "stream",
     "text": [
      "carat Standard deviation: 0.476 que supone un 59.61 % respecto a su media\n",
      "depth Standard deviation: 1.432 que supone un 2.32 % respecto a su media\n",
      "table Standard deviation: 2.234 que supone un 3.89 % respecto a su media\n",
      "x Standard deviation: 1.124 que supone un 19.63 % respecto a su media\n",
      "y Standard deviation: 1.147 que supone un 20.0 % respecto a su media\n",
      "z Standard deviation: 0.697 que supone un 19.71 % respecto a su media\n",
      "price Standard deviation: 3992.416 que supone un 101.63 % respecto a su media\n"
     ]
    }
   ],
   "source": [
    "for column in df_diamonds.columns[:7]:\n",
    "    std_dev = df_diamonds[column].std()\n",
    "    std_dev_p = (std_dev / df_diamonds[column].mean())* 100\n",
    "    print(f'{column} Standard deviation:', round(std_dev, 3), 'que supone un', round(std_dev_p, 2), '% respecto a su media')\n",
    "    \n",
    "# cuanto mayor sea la dispersión mayor es la desviación estándar, si no hubiera ninguna variación en los datos, \n",
    "# es decir, si fueran todos iguales, la desviación estándar sería cero. \n",
    "# La desviación estándar cuantifica la dispersión alrededor de la media aritmética. \n",
    "# Informa de la media de distancias que tienen los datos respecto de su media aritmética.\n",
    "# Si la muestra representara una distribución normal podríamos decir que: \n",
    "# el 68% se encuentran en +- una vez la standard deviation respecto a la media\n",
    "# el 95% se encuentra en +- 1,96 veces la standard deviation respecto a la media\n",
    "\n",
    "# Puede resultar interesante calcular de cada uno si en muy representativo respecto a la media\n",
    "\n",
    "#Conclusiones:\n",
    "# - Depth y Table nos deberían de mostrar resultados muy poco dispersos como ya vimos con su media, y mediana\n",
    "# - X, Y, Z muestran unas desviaciones no muy altas y lo curioso es que entre ellas son muy similares lo\n",
    "# que se podría interpretar como proporcionalidad en el diseño de la forma de los diamantes\n",
    "# - Price y Carat sus desviaciones suponen mucha diferencia, lo que se podría interpretar como que \n",
    "# por muy pequeña que sea la variación en sus medidas, varía mucho su precio y algo menos los quilates."
   ]
  },
  {
   "cell_type": "code",
   "execution_count": 11,
   "id": "d985b255",
   "metadata": {},
   "outputs": [
    {
     "data": {
      "text/html": [
       "<div>\n",
       "<style scoped>\n",
       "    .dataframe tbody tr th:only-of-type {\n",
       "        vertical-align: middle;\n",
       "    }\n",
       "\n",
       "    .dataframe tbody tr th {\n",
       "        vertical-align: top;\n",
       "    }\n",
       "\n",
       "    .dataframe thead th {\n",
       "        text-align: right;\n",
       "    }\n",
       "</style>\n",
       "<table border=\"1\" class=\"dataframe\">\n",
       "  <thead>\n",
       "    <tr style=\"text-align: right;\">\n",
       "      <th></th>\n",
       "      <th>carat</th>\n",
       "      <th>depth</th>\n",
       "      <th>table</th>\n",
       "      <th>x</th>\n",
       "      <th>y</th>\n",
       "      <th>z</th>\n",
       "      <th>price</th>\n",
       "      <th>city</th>\n",
       "      <th>cut</th>\n",
       "      <th>color</th>\n",
       "      <th>clarity</th>\n",
       "    </tr>\n",
       "  </thead>\n",
       "  <tbody>\n",
       "    <tr>\n",
       "      <th>6465</th>\n",
       "      <td>0.71</td>\n",
       "      <td>64.1</td>\n",
       "      <td>60.0</td>\n",
       "      <td>0.0</td>\n",
       "      <td>0.00</td>\n",
       "      <td>0.0</td>\n",
       "      <td>2130</td>\n",
       "      <td>Paris</td>\n",
       "      <td>Good</td>\n",
       "      <td>F</td>\n",
       "      <td>SI2</td>\n",
       "    </tr>\n",
       "    <tr>\n",
       "      <th>14815</th>\n",
       "      <td>1.07</td>\n",
       "      <td>61.6</td>\n",
       "      <td>56.0</td>\n",
       "      <td>0.0</td>\n",
       "      <td>6.62</td>\n",
       "      <td>0.0</td>\n",
       "      <td>4954</td>\n",
       "      <td>Amsterdam</td>\n",
       "      <td>Ideal</td>\n",
       "      <td>F</td>\n",
       "      <td>SI2</td>\n",
       "    </tr>\n",
       "    <tr>\n",
       "      <th>26192</th>\n",
       "      <td>2.25</td>\n",
       "      <td>62.8</td>\n",
       "      <td>59.0</td>\n",
       "      <td>0.0</td>\n",
       "      <td>0.00</td>\n",
       "      <td>0.0</td>\n",
       "      <td>18034</td>\n",
       "      <td>Amsterdam</td>\n",
       "      <td>Premium</td>\n",
       "      <td>H</td>\n",
       "      <td>SI2</td>\n",
       "    </tr>\n",
       "    <tr>\n",
       "      <th>28029</th>\n",
       "      <td>0.71</td>\n",
       "      <td>64.1</td>\n",
       "      <td>60.0</td>\n",
       "      <td>0.0</td>\n",
       "      <td>0.00</td>\n",
       "      <td>0.0</td>\n",
       "      <td>2130</td>\n",
       "      <td>Zurich</td>\n",
       "      <td>Good</td>\n",
       "      <td>F</td>\n",
       "      <td>SI2</td>\n",
       "    </tr>\n",
       "    <tr>\n",
       "      <th>34423</th>\n",
       "      <td>1.14</td>\n",
       "      <td>57.5</td>\n",
       "      <td>67.0</td>\n",
       "      <td>0.0</td>\n",
       "      <td>0.00</td>\n",
       "      <td>0.0</td>\n",
       "      <td>6381</td>\n",
       "      <td>Amsterdam</td>\n",
       "      <td>Fair</td>\n",
       "      <td>G</td>\n",
       "      <td>VS1</td>\n",
       "    </tr>\n",
       "  </tbody>\n",
       "</table>\n",
       "</div>"
      ],
      "text/plain": [
       "       carat  depth  table    x     y    z  price       city      cut color  \\\n",
       "6465    0.71   64.1   60.0  0.0  0.00  0.0   2130      Paris     Good     F   \n",
       "14815   1.07   61.6   56.0  0.0  6.62  0.0   4954  Amsterdam    Ideal     F   \n",
       "26192   2.25   62.8   59.0  0.0  0.00  0.0  18034  Amsterdam  Premium     H   \n",
       "28029   0.71   64.1   60.0  0.0  0.00  0.0   2130     Zurich     Good     F   \n",
       "34423   1.14   57.5   67.0  0.0  0.00  0.0   6381  Amsterdam     Fair     G   \n",
       "\n",
       "      clarity  \n",
       "6465      SI2  \n",
       "14815     SI2  \n",
       "26192     SI2  \n",
       "28029     SI2  \n",
       "34423     VS1  "
      ]
     },
     "execution_count": 11,
     "metadata": {},
     "output_type": "execute_result"
    }
   ],
   "source": [
    "# Mínimos:\n",
    "df_diamonds[df_diamonds['x']==0] #son 5 filas\n",
    "#df_diamonds[df_diamonds['y']==0] #son 4 filas\n",
    "#df_diamonds[df_diamonds['z']==0] #son 16 filas\n",
    "#df_diamonds[df_diamonds['price']==326] #medidas de x,y,z próximos a su media.\n",
    "\n",
    "# Máximos:\n",
    "#df_diamonds[df_diamonds['x']==10.23] #en máximo el precio (18.531) es muy próximo a su máximo\n",
    "#df_diamonds[df_diamonds['y']==58.9] #llama la atención el valor tan bajo de x (8.09) y pero coincide con max de z(8.06)\n",
    "#df_diamonds[df_diamonds['z']==8.06] #mismo caso que el anterior. Representa un precio alto que se podría considerar acorde.\n",
    "#df_diamonds[df_diamonds['price']==18823] #no se corresponde con medidas máximas incluso ni en depth y table."
   ]
  },
  {
   "cell_type": "code",
   "execution_count": null,
   "id": "7139d936",
   "metadata": {},
   "outputs": [],
   "source": [
    "for column in df_diamonds.columns[:7]:\n",
    "    per_75 = df_diamonds[column].quantile(0.75)\n",
    "    per_25 = df_diamonds[column].quantile(0.25)\n",
    "    iqr = per_75 - per_25\n",
    "    iqr_perc = (iqr / df_diamonds[column].median())* 100\n",
    "    print(f'{column} interquartile range:', round(iqr, 3), 'que representa el', round(iqr_perc, 3), '% sobre su mediana')\n",
    "\n",
    "# Interpretación:\n",
    "# Muestra la dispersión de valor en la que se encuentran el 50% de los valores más centrales.\n",
    "\n",
    "# Conclusiones:\n",
    "# Vemos de nuevo la alta dispersión de los valores en el precio a diferencia de los valores en Depth y/o Table.\n",
    "# Se podría interpretar que el precio es muy sensible a las medidas del diamante\n",
    "# X, Y, Z parece que siguen manteniendo esa proporcionalidad."
   ]
  },
  {
   "cell_type": "code",
   "execution_count": null,
   "id": "e6d6ca54",
   "metadata": {},
   "outputs": [],
   "source": [
    "for column in df_diamonds.columns[:7]:\n",
    "    data = df_diamonds[column]\n",
    "    ax = data.plot.box(figsize=(5, 8))\n",
    "    ax.set_ylabel(column)\n",
    "    #ax.boxplot(data, whis=[0, 100])\n",
    "    plt.tight_layout()\n",
    "    plt.grid()\n",
    "    plt.show()\n",
    "\n",
    "# Interpretación:\n",
    "# El interior de la caja marca el límite inferior del percentil 25 y el superior del 75\n",
    "# La línea interior es la mediana\n",
    "# Los bigotes pueden llegar a marcar un máximo de +-1,5 veces la desviación stándar.\n",
    "\n",
    "# Conclusiones:\n",
    "# Muchas veces el visual únicamente puede llevarnos a engaño debido a las escalas como sucede comparando los gráficos x e Y.\n",
    "# Con X e Y venimos viendo su alta relación pero visualmente diríamos que los valores de Y están más concentrados que en X."
   ]
  },
  {
   "cell_type": "code",
   "execution_count": null,
   "id": "857ac2c8",
   "metadata": {},
   "outputs": [],
   "source": [
    "for column in df_diamonds.columns[:7]:\n",
    "    data = df_diamonds[column]\n",
    "    ax = data.plot.hist(figsize=(12, 8))\n",
    "    ax.set_xlabel(column)\n",
    "    plt.tight_layout()\n",
    "    plt.show()\n",
    "\n",
    "# Interpretación:\n",
    "# Tabla de frecuencias de los valores de una feature\n",
    "\n",
    "# Conclusiones:\n",
    "# Table, Depth, X, Y, Z mantienen visuales de concentración mientras que Price y Carat muestran cierta similitud\n",
    "# Veníamos viendo que X e Y eran muy similares pero en el gráfico al usar diferente escala nos podría dar una señal no\n",
    "# tan similar."
   ]
  },
  {
   "cell_type": "code",
   "execution_count": null,
   "id": "5c20e6bd",
   "metadata": {},
   "outputs": [],
   "source": [
    "df_diamonds_bin = df_diamonds.copy()\n",
    "df_diamonds_bin['binned_x'] = pd.qcut(df_diamonds_bin['x'], q=5, precision=2)\n",
    "df_diamonds_bin['binned_y'] = pd.qcut(df_diamonds_bin['y'], q=5, precision=2)\n",
    "df_diamonds_bin['binned_z'] = pd.qcut(df_diamonds_bin['z'], q=5, precision=2)\n",
    "df_diamonds_bin"
   ]
  },
  {
   "cell_type": "code",
   "execution_count": null,
   "id": "da042e78",
   "metadata": {},
   "outputs": [],
   "source": [
    "# puede ser interesante analizar como opción, crear bins para sustituir X,Y,Z.\n",
    "\n",
    "#for column in df_diamonds.columns[3:6]:\n",
    "    #df_diamonds[f'binned_{column}'] = pd.cut(df_diamonds[column], 10)\n",
    "    # Los siguientes pasos muestran otra lógica de cómo hacer este proceso pero que por alguna razón no me funcionaba en el loop\n",
    "    #binnedPopulation = pd.cut(df_diamonds[column], 10)\n",
    "    #binnedPopulation.head()\n",
    "    #binnedPopulation.value_counts()\n",
    "    #binnedPopulation.name = f'binned_{column}'\n",
    "    #df_bin = pd.concat([df_diamonds, binnedPopulation], axis=1)\n",
    "    #df_bin = df_bin.sort_values(by=column)\n",
    "    \n",
    "#df_diamonds.head()\n",
    "\n",
    "# Interpretación:\n",
    "# asignamos un número específico de intervalos (bins) a un feature. Dicho número divide el rango de la muestra en cajitas\n",
    "# del mismo tamaño por lo que el número de valores que caen en cada intervalo no tienen por qué ser iguales.\n",
    "# Lo que sucedía en los percentiles es que cada una de las 4 cajas contenía el mismo número de valores."
   ]
  },
  {
   "cell_type": "markdown",
   "id": "fde8885c",
   "metadata": {},
   "source": [
    "### Categorical Data"
   ]
  },
  {
   "cell_type": "code",
   "execution_count": null,
   "id": "c3407146",
   "metadata": {
    "scrolled": true
   },
   "outputs": [],
   "source": [
    "cols = ['city', 'cut', 'color', 'clarity']\n",
    "\n",
    "cat_list = []\n",
    "for col in cols:\n",
    "    cat = df_diamonds[col].unique()\n",
    "    cat_num = len(cat)\n",
    "    cat_dict = {\"categorical_variable\":col,\n",
    "                \"number_of_possible_values\":cat_num,\n",
    "                \"values\":cat}\n",
    "    cat_list.append(cat_dict)\n",
    "    \n",
    "categories = pd.DataFrame(cat_list).sort_values(by=\"number_of_possible_values\",\n",
    "                                                ascending=False).reset_index(drop=True)\n",
    "categories"
   ]
  },
  {
   "cell_type": "markdown",
   "id": "674dd015",
   "metadata": {},
   "source": [
    "### Full Dummies"
   ]
  },
  {
   "cell_type": "code",
   "execution_count": null,
   "id": "f4ab75a1",
   "metadata": {},
   "outputs": [],
   "source": [
    "# Get.dummies con todos\n",
    "\n",
    "df_diamonds_dumm = pd.get_dummies(df_diamonds_bin, columns=['cut', 'color', 'clarity', 'city', 'binned_x', 'binned_y', 'binned_z'], drop_first=True)\n",
    "df_diamonds_dumm"
   ]
  },
  {
   "cell_type": "markdown",
   "id": "e8bfdbea",
   "metadata": {},
   "source": [
    "### Mix Label and Dummies"
   ]
  },
  {
   "cell_type": "code",
   "execution_count": null,
   "id": "3f32f3bc",
   "metadata": {},
   "outputs": [],
   "source": [
    "# Usando tanto get.dummies como label encoding con Cut (Fair, Good, Very Good, Premium, Ideal), \n",
    "         # Color from J (worst) to D (best) y Claridad (I1 (worst), SI2, SI1, VS2, VS1, VVS2, VVS1, IF (best))."
   ]
  },
  {
   "cell_type": "code",
   "execution_count": null,
   "id": "7626388b",
   "metadata": {},
   "outputs": [],
   "source": [
    "# Label encoding y get.dummies con el resto\n",
    "encoding_cut = {'Fair':1, 'Good':2, 'Very Good':3, 'Premium':4, 'Ideal':5}\n",
    "def ordinal_encoding_cut(x):\n",
    "    for key in encoding_cut:\n",
    "        if x == key:\n",
    "            return encoding_cut[key]"
   ]
  },
  {
   "cell_type": "code",
   "execution_count": null,
   "id": "2937d75b",
   "metadata": {},
   "outputs": [],
   "source": [
    "df_diamonds_mix = df_diamonds_bin.copy()"
   ]
  },
  {
   "cell_type": "code",
   "execution_count": null,
   "id": "70ea4999",
   "metadata": {},
   "outputs": [],
   "source": [
    "df_diamonds_mix['cut'] = df_diamonds_mix['cut'].apply(ordinal_encoding_cut)\n",
    "df_diamonds_mix"
   ]
  },
  {
   "cell_type": "code",
   "execution_count": null,
   "id": "bc7d2774",
   "metadata": {},
   "outputs": [],
   "source": [
    "encoding_color = {'J':1, 'I':2, 'H':3, 'G':4, 'F':5, 'E':6, 'D':7}\n",
    "def ordinal_encoding_color(x):\n",
    "    for key in encoding_color:\n",
    "        if x == key:\n",
    "            return encoding_color[key]"
   ]
  },
  {
   "cell_type": "code",
   "execution_count": null,
   "id": "7cca6d7a",
   "metadata": {},
   "outputs": [],
   "source": [
    "df_diamonds_mix['color'] = df_diamonds_mix['color'].apply(ordinal_encoding_color)\n",
    "df_diamonds_mix"
   ]
  },
  {
   "cell_type": "code",
   "execution_count": null,
   "id": "feb70c9e",
   "metadata": {},
   "outputs": [],
   "source": [
    "encoding_clarity = {'I1':1, 'SI2':2, 'SI1':3, 'VS2':4, 'VS1':5, 'VVS2':6, 'VVS1':7, 'IF':8}\n",
    "def ordinal_encoding_clarity(x):\n",
    "    for key in encoding_clarity:\n",
    "        if x == key:\n",
    "            return encoding_clarity[key]"
   ]
  },
  {
   "cell_type": "code",
   "execution_count": null,
   "id": "28192e70",
   "metadata": {},
   "outputs": [],
   "source": [
    "df_diamonds_mix['clarity'] = df_diamonds_mix['clarity'].apply(ordinal_encoding_clarity)\n",
    "df_diamonds_mix"
   ]
  },
  {
   "cell_type": "code",
   "execution_count": null,
   "id": "3db45707",
   "metadata": {},
   "outputs": [],
   "source": [
    "df_diamonds_mix = pd.get_dummies(df_diamonds_mix, columns=['city', 'binned_x', 'binned_y', 'binned_z'], drop_first=True)\n",
    "df_diamonds_mix"
   ]
  },
  {
   "cell_type": "code",
   "execution_count": null,
   "id": "9373be18",
   "metadata": {
    "scrolled": true
   },
   "outputs": [],
   "source": [
    "df_diamonds_mix.info()"
   ]
  },
  {
   "cell_type": "markdown",
   "id": "736a8f5e",
   "metadata": {},
   "source": [
    "### Escalados Full dumm"
   ]
  },
  {
   "cell_type": "code",
   "execution_count": null,
   "id": "542c63be",
   "metadata": {},
   "outputs": [],
   "source": [
    "# Using scikit-learn .StandardScaler() Only dumm\n",
    "df_cols = list(df_diamonds_dumm.columns)\n",
    "scaler_stand = StandardScaler()\n",
    "df_diamonds_dumm_stand = scaler_stand.fit_transform(df_diamonds_dumm)\n",
    "df_diamonds_dumm_stand = pd.DataFrame(df_diamonds_dumm_stand, columns=df_cols)\n",
    "df_diamonds_dumm_stand"
   ]
  },
  {
   "cell_type": "code",
   "execution_count": null,
   "id": "c4717915",
   "metadata": {},
   "outputs": [],
   "source": [
    "# Using scikit-learn .MinMaxScaler()\n",
    "\n",
    "scaler_minmax = MinMaxScaler()\n",
    "df_diamonds_dumm_minmax = scaler_minmax.fit_transform(df_diamonds_dumm)\n",
    "df_diamonds_dumm_minmax = pd.DataFrame(df_diamonds_dumm_minmax, columns=df_cols)\n",
    "df_diamonds_dumm_minmax"
   ]
  },
  {
   "cell_type": "code",
   "execution_count": null,
   "id": "1eacfdc3",
   "metadata": {},
   "outputs": [],
   "source": [
    "# Using scikit-learn .Robust()\n",
    "\n",
    "scaler_robust = RobustScaler()\n",
    "df_diamonds_dumm_rob = scaler_robust.fit_transform(df_diamonds_dumm)\n",
    "df_diamonds_dumm_rob = pd.DataFrame(df_diamonds_dumm_rob, columns=df_cols)\n",
    "df_diamonds_dumm_rob"
   ]
  },
  {
   "cell_type": "markdown",
   "id": "4ea895ba",
   "metadata": {},
   "source": [
    "### Escalado Mix"
   ]
  },
  {
   "cell_type": "code",
   "execution_count": null,
   "id": "5cd278e4",
   "metadata": {},
   "outputs": [],
   "source": [
    "# Using scikit-learn .StandardScaler() Label and dumm\n",
    "df_cols_mix = list(df_diamonds_mix.columns)\n",
    "scaler_stand = StandardScaler()\n",
    "df_diamonds_mix_stand = scaler_stand.fit_transform(df_diamonds_mix)\n",
    "df_diamonds_mix_stand = pd.DataFrame(df_diamonds_mix_stand, columns=df_cols_mix)\n",
    "df_diamonds_mix_stand"
   ]
  },
  {
   "cell_type": "code",
   "execution_count": null,
   "id": "cffc8e43",
   "metadata": {},
   "outputs": [],
   "source": [
    "# Using scikit-learn .MinMaxScaler()\n",
    "\n",
    "scaler_minmax = MinMaxScaler()\n",
    "df_diamonds_mix_minmax = scaler_minmax.fit_transform(df_diamonds_mix)\n",
    "df_diamonds_mix_minmax = pd.DataFrame(df_diamonds_mix_minmax, columns=df_cols_mix)\n",
    "df_diamonds_mix_minmax"
   ]
  },
  {
   "cell_type": "code",
   "execution_count": null,
   "id": "ff8a06c3",
   "metadata": {},
   "outputs": [],
   "source": [
    "# Using scikit-learn .Robust()\n",
    "\n",
    "scaler_robust = RobustScaler()\n",
    "df_diamonds_mix_rob = scaler_robust.fit_transform(df_diamonds_mix)\n",
    "df_diamonds_mix_rob = pd.DataFrame(df_diamonds_mix_rob, columns=df_cols_mix)\n",
    "df_diamonds_mix_rob"
   ]
  },
  {
   "cell_type": "code",
   "execution_count": null,
   "id": "4d34c3d6",
   "metadata": {},
   "outputs": [],
   "source": [
    "# Cada caso con un tipo de escaler\n",
    "\n",
    "# Caso 1: Sin eliminar nada\n",
    "# Caso 2: Eliminar posibles columnas: columnas de la original o columnas que se han ido incluyendo.\n",
    "# Caso 3: Eliminar posibles filas: como por ejemplo en las que X, Y y Z valen 0\n",
    "# Caso 4: eliminando outliers"
   ]
  },
  {
   "cell_type": "markdown",
   "id": "c1d1b907",
   "metadata": {},
   "source": [
    "# CASE 1. Taking all"
   ]
  },
  {
   "cell_type": "code",
   "execution_count": null,
   "id": "b70b3ba5",
   "metadata": {},
   "outputs": [],
   "source": [
    "X_columns_dumm_stand = list(df_diamonds_dumm_stand.columns.drop('price'))\n",
    "y_column_dumm_stand = 'price'"
   ]
  },
  {
   "cell_type": "code",
   "execution_count": null,
   "id": "0b64ef7a",
   "metadata": {},
   "outputs": [],
   "source": [
    "X_diamonds_dumm_stand = df_diamonds_dumm_stand[X_columns_dumm_stand]\n",
    "y_diamonds_dumm_stand = df_diamonds_dumm_stand[y_column_dumm_stand]"
   ]
  },
  {
   "cell_type": "code",
   "execution_count": null,
   "id": "e69d19f9",
   "metadata": {},
   "outputs": [],
   "source": [
    "x_train_dumm_stand, x_test_dumm_stand, y_train_dumm_stand, y_test_dumm_stand = train_test_split(X_diamonds_dumm_stand, y_diamonds_dumm_stand, test_size=0.2, random_state=42)"
   ]
  },
  {
   "cell_type": "code",
   "execution_count": null,
   "id": "c67d196e",
   "metadata": {},
   "outputs": [],
   "source": [
    "# Model definition\n",
    "\n",
    "#model = linear_model.Lasso()\n",
    "#model = ElasticNet()\n",
    "#model = Ridge()\n",
    "#model = SVR()\n",
    "#model = SGDRegressor()\n",
    "#model = LinearRegression()\n",
    "\n",
    "hyperparameters = model.get_params()\n",
    "\n",
    "#print(type(model), '\\n')\n",
    "#print('Model hyperparameters:', hyperparameters, '\\n')"
   ]
  },
  {
   "cell_type": "code",
   "execution_count": null,
   "id": "d173297e",
   "metadata": {},
   "outputs": [],
   "source": [
    "# Model training\n",
    "\n",
    "model.fit(x_train_dumm_stand, y_train_dumm_stand)\n",
    "\n",
    "print('Model:', model, '\\n')\n",
    "print('Model hyperparameters:', hyperparameters, '\\n')\n",
    "# print('Model coefficients:', model.coef_, '\\n')"
   ]
  },
  {
   "cell_type": "code",
   "execution_count": null,
   "id": "f648dcd3",
   "metadata": {},
   "outputs": [],
   "source": [
    "predictions = model.predict(x_test_dumm_stand)"
   ]
  },
  {
   "cell_type": "code",
   "execution_count": null,
   "id": "4be66c39",
   "metadata": {},
   "outputs": [],
   "source": [
    "check = pd.DataFrame({'Ground truth':y_test_dumm_stand, 'Predictions':predictions, 'Diff':y_test_dumm_stand-predictions})\n",
    "#check"
   ]
  },
  {
   "cell_type": "code",
   "execution_count": null,
   "id": "863bce70",
   "metadata": {},
   "outputs": [],
   "source": [
    "# RMSE calculation\n",
    "\n",
    "rmse = mean_squared_error(predictions, y_test_dumm_stand, squared=False)\n",
    "rmse"
   ]
  },
  {
   "cell_type": "markdown",
   "id": "a532c0a8",
   "metadata": {},
   "source": [
    "# Case 2. Delete Columns Mix"
   ]
  },
  {
   "cell_type": "code",
   "execution_count": null,
   "id": "f3e0f731",
   "metadata": {},
   "outputs": [],
   "source": [
    "list(df_diamonds_mix_stand.columns)"
   ]
  },
  {
   "cell_type": "code",
   "execution_count": null,
   "id": "35263e02",
   "metadata": {},
   "outputs": [],
   "source": [
    "df_diamonds_mix_corr = df_diamonds_mix_stand.corr()\n",
    "df_diamonds_mix_corr"
   ]
  },
  {
   "cell_type": "code",
   "execution_count": null,
   "id": "8d1e21a7",
   "metadata": {},
   "outputs": [],
   "source": [
    "fig = plt.figure(figsize=(12,12))\n",
    "ax = fig.add_subplot(1, 1, 1)\n",
    "sns.heatmap(df_diamonds_mix_stand.corr(method='pearson'), annot=True, fmt='.2f', ax=ax);"
   ]
  },
  {
   "cell_type": "code",
   "execution_count": null,
   "id": "96b5d52c",
   "metadata": {},
   "outputs": [],
   "source": [
    "df_diamonds_mix_stand_uncorr = df_diamonds_mix_stand.drop(['x', 'y', 'z', 'binned_y_(4.55, 5.24]',\n",
    " 'binned_y_(5.24, 6.08]',\n",
    " 'binned_y_(6.08, 6.7]',\n",
    " 'binned_y_(6.7, 58.9]',\n",
    " 'binned_z_(2.8, 3.22]',\n",
    " 'binned_z_(3.22, 3.76]',\n",
    " 'binned_z_(3.76, 4.13]',\n",
    " 'binned_z_(4.13, 8.06]'], axis=1)\n",
    "fig, ax = plt.subplots(figsize=(12,8))\n",
    "ax = sns.heatmap(df_diamonds_mix_stand_uncorr.corr(), annot=True, vmin=-1, vmax=1)"
   ]
  },
  {
   "cell_type": "code",
   "execution_count": null,
   "id": "f11ab61d",
   "metadata": {},
   "outputs": [],
   "source": [
    "X_columns_mix_stand_delete = list(df_diamonds_mix_stand_uncorr.columns.drop('price'))\n",
    "y_column_mix_stand_delete = 'price'\n",
    "X_diamonds_mix_stand_delete = df_diamonds_mix_stand_uncorr[X_columns_mix_stand_delete]\n",
    "y_diamonds_mix_stand_delete = df_diamonds_mix_stand_uncorr[y_column_mix_stand_delete]\n",
    "x_train_mix_stand, x_test_mix_stand, y_train_mix_stand, y_test_mix_stand = train_test_split(X_diamonds_mix_stand_delete, \n",
    "                                                                                                y_diamonds_mix_stand_delete, \n",
    "                                                                                                test_size=0.2, random_state=42)"
   ]
  },
  {
   "cell_type": "code",
   "execution_count": null,
   "id": "d085dbe4",
   "metadata": {},
   "outputs": [],
   "source": [
    "# Model definition\n",
    "\n",
    "model = linear_model.Lasso()\n",
    "#model = ElasticNet()\n",
    "#model = Ridge()\n",
    "#model = SVR()\n",
    "#model = SGDRegressor()\n",
    "#model = LinearRegression()\n",
    "\n",
    "\n",
    "hyperparameters = model.get_params()\n",
    "\n",
    "#print(type(model), '\\n')\n",
    "#print('Model hyperparameters:', hyperparameters, '\\n')\n",
    "\n",
    "# Model training\n",
    "\n",
    "model.fit(x_train_mix_stand, y_train_mix_stand)\n",
    "\n",
    "#print('Model:', model, '\\n')\n",
    "#print('Model hyperparameters:', hyperparameters, '\\n')\n",
    "# print('Model coefficients:', model.coef_, '\\n')\n",
    "\n",
    "predictions = model.predict(x_test_mix_stand)\n",
    "\n",
    "# RMSE calculation\n",
    "\n",
    "rmse = mean_squared_error(predictions,  y_test_mix_stand, squared=False)\n",
    "rmse"
   ]
  },
  {
   "cell_type": "code",
   "execution_count": null,
   "id": "681072f9",
   "metadata": {},
   "outputs": [],
   "source": [
    "regressor = RandomForestRegressor()\n",
    "hyperparameters = regressor.get_params()\n",
    "regressor.fit(x_train_mix_stand, y_train_mix_stand)\n",
    "y_pred = regressor.predict(x_test_mix_stand)\n",
    "rmse = mean_squared_error(y_pred,  y_test_mix_stand, squared=False)\n",
    "rmse"
   ]
  },
  {
   "cell_type": "markdown",
   "id": "1d2ceb2d",
   "metadata": {},
   "source": [
    "# Test"
   ]
  },
  {
   "cell_type": "code",
   "execution_count": null,
   "id": "0a3757e7",
   "metadata": {
    "scrolled": true
   },
   "outputs": [],
   "source": [
    "df_test = pd.read_csv('../../data/diamonds_test.csv')\n",
    "df_test.drop('id', axis=1, inplace=True)\n",
    "df_test"
   ]
  },
  {
   "cell_type": "markdown",
   "id": "ad952c41",
   "metadata": {},
   "source": [
    "## Full dumm"
   ]
  },
  {
   "cell_type": "code",
   "execution_count": null,
   "id": "92f201f6",
   "metadata": {},
   "outputs": [],
   "source": [
    "df_test_bin = df_test.copy()\n",
    "df_test_bin['binned_x'] = pd.qcut(df_test_bin['x'], q=5, precision=2)\n",
    "df_test_bin['binned_y'] = pd.qcut(df_test_bin['y'], q=5, precision=2)\n",
    "df_test_bin['binned_z'] = pd.qcut(df_test_bin['z'], q=5, precision=2)"
   ]
  },
  {
   "cell_type": "code",
   "execution_count": null,
   "id": "917e4cd5",
   "metadata": {},
   "outputs": [],
   "source": [
    "df_test_dumm = pd.get_dummies(df_test_bin, columns=['cut', 'color', 'clarity', 'city', 'binned_x', 'binned_y', 'binned_z'], drop_first=True)"
   ]
  },
  {
   "cell_type": "code",
   "execution_count": null,
   "id": "a9dca886",
   "metadata": {},
   "outputs": [],
   "source": [
    "# Using scikit-learn .StandardScaler() Only dumm\n",
    "df_cols_test = list(df_test_dumm.columns)\n",
    "scaler_stand = StandardScaler()\n",
    "df_test_dumm_stand = scaler_stand.fit_transform(df_test_dumm)\n",
    "df_test_dumm_stand = pd.DataFrame(df_test_dumm_stand, columns=df_cols_test)"
   ]
  },
  {
   "cell_type": "code",
   "execution_count": null,
   "id": "64de9920",
   "metadata": {},
   "outputs": [],
   "source": [
    "predictions_test = model.predict(df_test_dumm_stand)"
   ]
  },
  {
   "cell_type": "code",
   "execution_count": null,
   "id": "fed24f44",
   "metadata": {},
   "outputs": [],
   "source": [
    "solucion = pd.DataFrame(predictions_test, columns = ['Price'])\n",
    "solucion.index.names = ['id']\n",
    "solucion"
   ]
  },
  {
   "cell_type": "code",
   "execution_count": null,
   "id": "69ac8185",
   "metadata": {},
   "outputs": [],
   "source": [
    "solucion.to_csv('../../data/results.csv')"
   ]
  },
  {
   "cell_type": "markdown",
   "id": "77a28f56",
   "metadata": {},
   "source": [
    "### Mix"
   ]
  },
  {
   "cell_type": "code",
   "execution_count": null,
   "id": "34b0570a",
   "metadata": {},
   "outputs": [],
   "source": [
    "df_test_mix = df_test_bin.copy()"
   ]
  },
  {
   "cell_type": "code",
   "execution_count": null,
   "id": "ffa55efc",
   "metadata": {},
   "outputs": [],
   "source": [
    "df_test_mix['cut'] = df_test_mix['cut'].apply(ordinal_encoding_cut)\n",
    "df_test_mix['color'] = df_test_mix['color'].apply(ordinal_encoding_color)\n",
    "df_test_mix['clarity'] = df_test_mix['clarity'].apply(ordinal_encoding_clarity)"
   ]
  },
  {
   "cell_type": "code",
   "execution_count": null,
   "id": "50a3c9cd",
   "metadata": {},
   "outputs": [],
   "source": [
    "df_test_mix = pd.get_dummies(df_test_mix, columns=['city', 'binned_x', 'binned_y', 'binned_z'], drop_first=True)"
   ]
  },
  {
   "cell_type": "code",
   "execution_count": null,
   "id": "1423b3be",
   "metadata": {},
   "outputs": [],
   "source": [
    "list(df_test_mix.columns)"
   ]
  },
  {
   "cell_type": "code",
   "execution_count": null,
   "id": "1759589f",
   "metadata": {},
   "outputs": [],
   "source": [
    "df_test_mix_uncorr = df_test_mix.drop(['x', 'y', 'z', 'binned_x_(4.56, 5.24]',\n",
    " 'binned_x_(5.24, 6.09]',\n",
    " 'binned_x_(6.09, 6.7]',\n",
    " 'binned_x_(6.7, 10.74]',\n",
    " 'binned_y_(4.56, 5.25]',\n",
    " 'binned_y_(5.25, 6.09]',\n",
    " 'binned_y_(6.09, 6.7]',\n",
    " 'binned_y_(6.7, 31.8]',\n",
    " 'binned_z_(2.81, 3.23]',\n",
    " 'binned_z_(3.23, 3.77]',\n",
    " 'binned_z_(3.77, 4.13]',\n",
    " 'binned_z_(4.13, 31.8]'], axis=1)"
   ]
  },
  {
   "cell_type": "code",
   "execution_count": null,
   "id": "f81d2b18",
   "metadata": {},
   "outputs": [],
   "source": []
  }
 ],
 "metadata": {
  "kernelspec": {
   "display_name": "Python [conda env:.conda-sklearn_env]",
   "language": "python",
   "name": "conda-env-.conda-sklearn_env-py"
  },
  "language_info": {
   "codemirror_mode": {
    "name": "ipython",
    "version": 3
   },
   "file_extension": ".py",
   "mimetype": "text/x-python",
   "name": "python",
   "nbconvert_exporter": "python",
   "pygments_lexer": "ipython3",
   "version": "3.10.6"
  }
 },
 "nbformat": 4,
 "nbformat_minor": 5
}
